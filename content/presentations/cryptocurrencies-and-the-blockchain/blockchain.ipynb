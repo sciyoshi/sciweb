{
 "cells": [
  {
   "cell_type": "markdown",
   "metadata": {
    "collapsed": true,
    "slideshow": {
     "slide_type": "slide"
    }
   },
   "source": [
    "# Blockchain Demo\n",
    "\n",
    "Let's build a simple blockchain in Python!"
   ]
  },
  {
   "cell_type": "code",
   "execution_count": 4,
   "metadata": {
    "collapsed": true,
    "init_cell": true,
    "slideshow": {
     "slide_type": "skip"
    }
   },
   "outputs": [],
   "source": [
    "import abc\n",
    "import types\n",
    "import codecs\n",
    "import hashlib\n",
    "import msgpack\n",
    "import binascii\n",
    "import collections\n",
    "from typing import Any, Optional, NamedTuple, List, Dict, DefaultDict, Union\n",
    "from ipywidgets import interact, interactive\n",
    "from IPython.display import display\n",
    "from pydantic import BaseModel\n",
    "from cryptography.hazmat.backends import default_backend\n",
    "from cryptography.hazmat.primitives import hashes\n",
    "from cryptography.hazmat.primitives.asymmetric import ec\n",
    "from cryptography.hazmat.primitives.serialization import PublicFormat, PrivateFormat, Encoding, NoEncryption"
   ]
  },
  {
   "cell_type": "markdown",
   "metadata": {
    "slideshow": {
     "slide_type": "skip"
    }
   },
   "source": [
    "`Digest` class for nicer hashes, and `sha256` helper function."
   ]
  },
  {
   "cell_type": "code",
   "execution_count": 5,
   "metadata": {
    "collapsed": true,
    "init_cell": true,
    "slideshow": {
     "slide_type": "skip"
    }
   },
   "outputs": [],
   "source": [
    "class Digest(bytes):\n",
    "    @classmethod\n",
    "    def zero(cls) -> 'Digest':\n",
    "        return cls(32)\n",
    "\n",
    "    def __repr__(self) -> str:\n",
    "        return binascii.hexlify(self).decode('ascii')\n",
    "\n",
    "def sha256(*vals) -> Digest:\n",
    "    ctx = hashlib.sha256()\n",
    "    for val in vals:\n",
    "        if isinstance(val, str):\n",
    "            ctx.update(val.encode('utf8'))\n",
    "        elif isinstance(val, int):\n",
    "            ctx.update(val.to_bytes(16, 'big'))\n",
    "        elif hasattr(val, '__digest__'):\n",
    "            ctx.update(val.__digest__())\n",
    "        else:\n",
    "            ctx.update(val)\n",
    "    return Digest(ctx.digest())"
   ]
  },
  {
   "cell_type": "markdown",
   "metadata": {
    "slideshow": {
     "slide_type": "skip"
    }
   },
   "source": [
    "Function which recovers a public key from a signature, given a `check` predicate called to verify the public key."
   ]
  },
  {
   "cell_type": "code",
   "execution_count": 6,
   "metadata": {
    "collapsed": true,
    "init_cell": true,
    "slideshow": {
     "slide_type": "skip"
    }
   },
   "outputs": [],
   "source": [
    "def recover_pubkey(signature, data, check=None, backend=None, curve=ec.SECP256K1()):\n",
    "    from cryptography.hazmat.backends.openssl.ec import _EllipticCurvePublicKey\n",
    "    \n",
    "    backend = backend or default_backend()\n",
    "\n",
    "    curve_nid = backend._elliptic_curve_to_nid(curve)\n",
    "\n",
    "    with backend._tmp_bn_ctx() as ctx:\n",
    "        ec_cdata = backend._lib.EC_KEY_new_by_curve_name(curve_nid)\n",
    "        backend.openssl_assert(ec_cdata != backend._ffi.NULL)\n",
    "        ec_cdata = backend._ffi.gc(ec_cdata, backend._lib.EC_KEY_free)\n",
    "        \n",
    "        group = backend._lib.EC_KEY_get0_group(ec_cdata)\n",
    "        backend.openssl_assert(group != backend._ffi.NULL)\n",
    "\n",
    "        z_data = sha256(data)\n",
    "        z_len = (backend._lib.EC_GROUP_get_degree(group) + 7) // 8\n",
    "        backend.openssl_assert(z_len > 0)\n",
    "        z_buf = backend._ffi.new(\"unsigned char[]\", z_data[-z_len:])\n",
    "        z = backend._lib.BN_CTX_get(ctx)\n",
    "        backend._lib.BN_bin2bn(z_buf, z_len, z)\n",
    "        # print(f'z:     {backend._bn_to_int(z)}')\n",
    "\n",
    "        sigbuf = backend._ffi.new(\"unsigned char[]\", signature)\n",
    "        psigbuf = backend._ffi.new(\"unsigned char **\", sigbuf)\n",
    "        sig = backend._lib.d2i_ECDSA_SIG(backend._ffi.NULL, psigbuf, len(signature))\n",
    "        backend.openssl_assert(sig != backend._ffi.NULL)\n",
    "\n",
    "        pr = backend._ffi.new(\"BIGNUM **\")\n",
    "        ps = backend._ffi.new(\"BIGNUM **\")\n",
    "        backend._lib.ECDSA_SIG_get0(sig, pr, ps)\n",
    "        r = backend._bn_to_int(pr[0])\n",
    "        s = backend._bn_to_int(ps[0])\n",
    "        # print(f'sig:   {r}\\n       {s}')\n",
    "\n",
    "        for y in [0, 1]:\n",
    "            point = backend._lib.EC_POINT_new(group)\n",
    "            backend._lib.EC_POINT_set_compressed_coordinates_GFp(group, point, pr[0], y, ctx)\n",
    "            bnx = backend._lib.BN_CTX_get(ctx)\n",
    "            bny = backend._lib.BN_CTX_get(ctx)\n",
    "            backend._lib.EC_POINT_get_affine_coordinates_GFp(group, point, bnx, bny, ctx)\n",
    "            # print(f'point: {backend._bn_to_int(bnx)}\\n       {backend._bn_to_int(bny)}')\n",
    "\n",
    "            order = backend._lib.BN_CTX_get(ctx)\n",
    "            backend._lib.EC_GROUP_get_order(group, order, ctx)\n",
    "            # print(f'order: {backend._bn_to_int(order)}')\n",
    "\n",
    "            inv = backend._lib.BN_CTX_get(ctx)\n",
    "            backend._lib.BN_mod_inverse(inv, pr[0], order, ctx)\n",
    "            # print(f'r inv: {backend._bn_to_int(inv)}')\n",
    "\n",
    "            rs = backend._lib.BN_CTX_get(ctx)\n",
    "            backend._lib.BN_mod_mul(rs, inv, ps[0], order, ctx)\n",
    "            # print(f'r1 s:  {backend._bn_to_int(rs)}')\n",
    "\n",
    "            rz = backend._lib.BN_CTX_get(ctx)\n",
    "            rzn = backend._lib.BN_CTX_get(ctx)\n",
    "            zero = backend._lib.BN_CTX_get(ctx)\n",
    "            backend._lib.BN_mod_mul(rz, inv, z, order, ctx)\n",
    "            backend._lib.BN_mod_sub(rzn, zero, rz, order, ctx)\n",
    "            # print(f'r1 z:  {backend._bn_to_int(rz)}')\n",
    "            # print(f'-r1 z: {backend._bn_to_int(rzn)}')\n",
    "\n",
    "            zn = backend._lib.BN_CTX_get(ctx)\n",
    "            backend._lib.BN_mod_sub(zn, zero, z, order, ctx)\n",
    "\n",
    "            res = backend._lib.EC_POINT_new(group)\n",
    "            backend._lib.EC_POINT_mul(group, res, rzn, point, rs, ctx)\n",
    "            bnx = backend._lib.BN_CTX_get(ctx)\n",
    "            bny = backend._lib.BN_CTX_get(ctx)\n",
    "            backend._lib.EC_POINT_get_affine_coordinates_GFp(group, res, bnx, bny, ctx)\n",
    "            # print(f'pkey:  {backend._bn_to_int(bnx)}\\n       {backend._bn_to_int(bny)}')\n",
    "\n",
    "            ec_cdata = backend._ec_key_set_public_key_affine_coordinates(ec_cdata, backend._bn_to_int(bnx), backend._bn_to_int(bny))\n",
    "            evp_pkey = backend._ec_cdata_to_evp_pkey(ec_cdata)\n",
    "\n",
    "            pkey = _EllipticCurvePublicKey(backend, ec_cdata, evp_pkey)\n",
    "            \n",
    "            if not check or check(pkey):\n",
    "                return pkey"
   ]
  },
  {
   "cell_type": "markdown",
   "metadata": {
    "slideshow": {
     "slide_type": "slide"
    }
   },
   "source": [
    "## Hashes\n",
    "\n",
    "* Deterministic \"one-way\" function\n",
    "* Uniformly distributed over its range\n",
    "* No correlation to its input"
   ]
  },
  {
   "cell_type": "code",
   "execution_count": 7,
   "metadata": {
    "slideshow": {
     "slide_type": "subslide"
    }
   },
   "outputs": [
    {
     "data": {
      "text/plain": [
       "e3b0c44298fc1c149afbf4c8996fb92427ae41e4649b934ca495991b7852b855"
      ]
     },
     "execution_count": 7,
     "metadata": {},
     "output_type": "execute_result"
    }
   ],
   "source": [
    "sha256('')"
   ]
  },
  {
   "cell_type": "code",
   "execution_count": 8,
   "metadata": {},
   "outputs": [
    {
     "data": {
      "text/plain": [
       "2cf24dba5fb0a30e26e83b2ac5b9e29e1b161e5c1fa7425e73043362938b9824"
      ]
     },
     "execution_count": 8,
     "metadata": {},
     "output_type": "execute_result"
    }
   ],
   "source": [
    "sha256('hello')"
   ]
  },
  {
   "cell_type": "code",
   "execution_count": 9,
   "metadata": {},
   "outputs": [
    {
     "data": {
      "text/plain": [
       "187c9bceeb919e1b3e6d20fa50ecabf7d9d50b5343e8f9a3d912abb13929102e"
      ]
     },
     "execution_count": 9,
     "metadata": {},
     "output_type": "execute_result"
    }
   ],
   "source": [
    "sha256('jello')"
   ]
  },
  {
   "cell_type": "code",
   "execution_count": 10,
   "metadata": {},
   "outputs": [
    {
     "data": {
      "text/plain": [
       "000c285457fc971f862a79b786476c78812c8897063c6fa9c045f579a3b2d63f"
      ]
     },
     "execution_count": 10,
     "metadata": {},
     "output_type": "execute_result"
    }
   ],
   "source": [
    "sha256('monkey')"
   ]
  },
  {
   "cell_type": "markdown",
   "metadata": {
    "slideshow": {
     "slide_type": "slide"
    }
   },
   "source": [
    "## Public Key Cryptography\n",
    "\n",
    "* Powers technologies like TLS, SSL, and PGP\n",
    "* Applications:\n",
    "  - Encryption: encrypt with public key, decrypt with associated private key\n",
    "  - Signing: sign with private key, verify signature with associated public key"
   ]
  },
  {
   "cell_type": "code",
   "execution_count": 11,
   "metadata": {
    "collapsed": true,
    "slideshow": {
     "slide_type": "subslide"
    }
   },
   "outputs": [],
   "source": [
    "private_key = ec.generate_private_key(ec.SECP256K1(), backend=default_backend())\n",
    "public_key = private_key.public_key()"
   ]
  },
  {
   "cell_type": "code",
   "execution_count": 12,
   "metadata": {},
   "outputs": [
    {
     "name": "stdout",
     "output_type": "stream",
     "text": [
      "b'304402203617a402389defb35ab864f5837d71af7a6af41cd2d4dddbc3646d1a346270520220479110cceb32befbd878d36e433d8b5f7eb04a332b3fc0bd40572e456d0f5ca7'\n"
     ]
    }
   ],
   "source": [
    "data = b'my message!'\n",
    "signature = private_key.sign(data, ec.ECDSA(hashes.SHA256()))\n",
    "print(codecs.encode(signature, 'hex'))"
   ]
  },
  {
   "cell_type": "code",
   "execution_count": 13,
   "metadata": {},
   "outputs": [],
   "source": [
    "public_key.verify(signature, data, ec.ECDSA(hashes.SHA256()))"
   ]
  },
  {
   "cell_type": "markdown",
   "metadata": {
    "slideshow": {
     "slide_type": "slide"
    }
   },
   "source": [
    "## Merkle Trees"
   ]
  },
  {
   "cell_type": "code",
   "execution_count": 14,
   "metadata": {
    "collapsed": true
   },
   "outputs": [],
   "source": [
    "class MerkleTree(List[Any]):\n",
    "    @property\n",
    "    def hash(self) -> Digest:\n",
    "        if not self:\n",
    "            return Digest.zero()\n",
    "\n",
    "        layer = [sha256(b'\\x00', item) for item in self]\n",
    "\n",
    "        while len(layer) > 1:\n",
    "            layer = [sha256(b'\\x01', *layer[i:i + 2]) for i in range(0, len(layer), 2)]\n",
    "\n",
    "        return layer[0]"
   ]
  },
  {
   "cell_type": "markdown",
   "metadata": {
    "slideshow": {
     "slide_type": "slide"
    }
   },
   "source": [
    "## Addresses"
   ]
  },
  {
   "cell_type": "markdown",
   "metadata": {},
   "source": [
    "* Hash of a public key\n",
    "* Funds can only be spent by proving ownership of private key"
   ]
  },
  {
   "cell_type": "code",
   "execution_count": 15,
   "metadata": {
    "collapsed": true,
    "slideshow": {
     "slide_type": "subslide"
    }
   },
   "outputs": [],
   "source": [
    "class Address(Digest):\n",
    "    private_key: Optional[ec.EllipticCurvePrivateKey] = None\n",
    "    public_key: Optional[ec.EllipticCurvePublicKey] = None\n",
    "\n",
    "    def __new__(cls, private_key=None, public_key=None):\n",
    "        if not public_key and not private_key:\n",
    "            # generate keypair\n",
    "            private_key = ec.generate_private_key(ec.SECP256K1(), backend=default_backend())\n",
    "            public_key = private_key.public_key()\n",
    "        elif private_key:\n",
    "            public_key = private_key.public_key()\n",
    "\n",
    "        # address is SHA-256 of public key\n",
    "        result = super().__new__(cls, sha256(public_key.public_numbers().encode_point()))\n",
    "        result.private_key = private_key\n",
    "        result.public_key = public_key\n",
    "        return result"
   ]
  },
  {
   "cell_type": "code",
   "execution_count": 16,
   "metadata": {
    "scrolled": true
   },
   "outputs": [
    {
     "data": {
      "text/plain": [
       "4c4be0f5e8a3e82579028dc2c8012b33346b95ec84a5b949307f67e96d1becfc"
      ]
     },
     "execution_count": 16,
     "metadata": {},
     "output_type": "execute_result"
    }
   ],
   "source": [
    "Address()"
   ]
  },
  {
   "cell_type": "markdown",
   "metadata": {
    "slideshow": {
     "slide_type": "slide"
    }
   },
   "source": [
    "## Transactions"
   ]
  },
  {
   "cell_type": "markdown",
   "metadata": {},
   "source": [
    "* Consists of sender + recipient addresses and amount to transfer\n",
    "* Nonce is used as a counter of transactions from an account\n",
    "* Signed using sender's private key"
   ]
  },
  {
   "cell_type": "code",
   "execution_count": 17,
   "metadata": {
    "collapsed": true,
    "slideshow": {
     "slide_type": "subslide"
    }
   },
   "outputs": [],
   "source": [
    "class Transaction(BaseModel):\n",
    "    sender: Digest\n",
    "    recipient: Digest\n",
    "    nonce: int\n",
    "    amount: int\n",
    "    signature: Optional[bytes] = None\n",
    "\n",
    "    def sign(self, key: ec.EllipticCurvePrivateKey):\n",
    "        data = msgpack.packb(self.values(exclude={'signature'}))\n",
    "\n",
    "        self.signature = key.sign(data, ec.ECDSA(hashes.SHA256()))\n",
    "\n",
    "    def verify(self):\n",
    "        if not self.signature:\n",
    "            raise Exception('no signature')\n",
    "\n",
    "        data = msgpack.packb(self.values(exclude={'signature'}))\n",
    "\n",
    "        # recover public key from signature, verify that it matches sender\n",
    "        public_key = recover_pubkey(\n",
    "            self.signature,\n",
    "            data,\n",
    "            check=lambda key: Address(public_key=key) == self.sender\n",
    "        )\n",
    "\n",
    "        if not public_key:\n",
    "            raise Exception('invalid signature')\n",
    "        \n",
    "        public_key.verify(self.signature, data, ec.ECDSA(hashes.SHA256()))\n",
    "\n",
    "    def __digest__(self):\n",
    "        return msgpack.packb(self.values())"
   ]
  },
  {
   "cell_type": "markdown",
   "metadata": {
    "slideshow": {
     "slide_type": "slide"
    }
   },
   "source": [
    "## State"
   ]
  },
  {
   "cell_type": "markdown",
   "metadata": {},
   "source": [
    "* Keeps track of all account balances\n",
    "* Maintained by each node in the network\n",
    "* Transition function: $State \\times Transaction \\to State$"
   ]
  },
  {
   "cell_type": "markdown",
   "metadata": {
    "slideshow": {
     "slide_type": "subslide"
    }
   },
   "source": [
    "Each account has a balance and a nonce (transaction counter):"
   ]
  },
  {
   "cell_type": "code",
   "execution_count": 18,
   "metadata": {
    "collapsed": true,
    "slideshow": {
     "slide_type": "-"
    }
   },
   "outputs": [],
   "source": [
    "class Account(BaseModel):\n",
    "    balance: int = 0\n",
    "    nonce: int = 0"
   ]
  },
  {
   "cell_type": "code",
   "execution_count": 19,
   "metadata": {
    "collapsed": true,
    "slideshow": {
     "slide_type": "subslide"
    }
   },
   "outputs": [],
   "source": [
    "class State(DefaultDict[Digest, Account]):\n",
    "    def __init__(self, default_factory=Account, *args, **kwargs):\n",
    "        super().__init__(default_factory, *args, **kwargs)\n",
    "\n",
    "    def apply(self, transaction: Transaction) -> 'State':\n",
    "        sender = self[transaction.sender]\n",
    "        recipient = self[transaction.recipient]\n",
    "        \n",
    "        # check signature\n",
    "        try:\n",
    "            transaction.verify()\n",
    "        except:\n",
    "            raise Exception('invalid transaction signature')\n",
    "        \n",
    "        # check nonce\n",
    "        if sender.nonce != transaction.nonce:\n",
    "            raise Exception('invalid transaction nonce')\n",
    "        \n",
    "        # check balance\n",
    "        if sender.balance < transaction.amount:\n",
    "            raise Exception('insufficient funds')\n",
    "\n",
    "        newstate = self.copy()\n",
    "        sender = newstate[transaction.sender] = sender.copy()\n",
    "        recipient = newstate[transaction.recipient] = recipient.copy()\n",
    "        \n",
    "        # increase nonce, transfer funds\n",
    "        sender.nonce += 1\n",
    "        sender.balance -= transaction.amount\n",
    "        recipient.balance += transaction.amount\n",
    "        \n",
    "        return newstate"
   ]
  },
  {
   "cell_type": "markdown",
   "metadata": {
    "slideshow": {
     "slide_type": "slide"
    }
   },
   "source": [
    "## Blocks"
   ]
  },
  {
   "cell_type": "markdown",
   "metadata": {},
   "source": [
    "So far, we have a simple ledger that allows secure transfer of funds between accounts. If this is maintained on a single trusted node, then this is basically all that we need. However, if we want to allow a decentralized network of (possibly untrustworthy) nodes to maintain this ledger, then we need a consensus algorithm. Under certain guarantees, leader election via Paxos/Raft can be used. Proof-of-work (aka Nakamoto) consensus has a stronger guarantee of Byzantine fault tolerance (BFT) given a majority of honest nodes."
   ]
  },
  {
   "cell_type": "code",
   "execution_count": 20,
   "metadata": {
    "collapsed": true,
    "slideshow": {
     "slide_type": "subslide"
    }
   },
   "outputs": [],
   "source": [
    "class Block(BaseModel):\n",
    "    prev_hash: Digest = Digest.zero()\n",
    "    nonce: int = 0\n",
    "    beneficiary: Digest = Digest.zero()\n",
    "    transactions: MerkleTree\n",
    "\n",
    "    def __init__(self, *args, **kwargs):\n",
    "        kwargs.setdefault('transactions', MerkleTree())\n",
    "        super().__init__(*args, **kwargs)\n",
    "\n",
    "    def __json__(self):\n",
    "        return dict(self.values(), hash=self.hash)\n",
    "        \n",
    "    @property\n",
    "    def hash(self) -> Digest:\n",
    "        return sha256(self.prev_hash, self.nonce, self.beneficiary, self.transactions.hash)\n",
    "\n",
    "    @property\n",
    "    def is_valid(self) -> bool:\n",
    "        return self.hash.startswith(b'\\x00')\n",
    "    \n",
    "    def mine(self):\n",
    "        while not self.is_valid:\n",
    "            self.nonce += 1"
   ]
  },
  {
   "cell_type": "code",
   "execution_count": 21,
   "metadata": {},
   "outputs": [
    {
     "data": {
      "application/vnd.jupyter.widget-view+json": {
       "model_id": "7a775941484e47d099a9776d4fd2ceaf"
      }
     },
     "metadata": {},
     "output_type": "display_data"
    }
   ],
   "source": [
    "interact(lambda nonce=0: Block(nonce=nonce).__json__(), nonce=(0, 1024, 1));"
   ]
  },
  {
   "cell_type": "code",
   "execution_count": 22,
   "metadata": {
    "collapsed": true,
    "slideshow": {
     "slide_type": "subslide"
    }
   },
   "outputs": [],
   "source": [
    "class Blockchain(BaseModel):\n",
    "    blocks: Dict[Digest, Block]\n",
    "    best_block: Block = None\n",
    "    next_block: Block = None\n",
    "    state: State\n",
    "\n",
    "    @property\n",
    "    def best_block_hash(self):\n",
    "        return self.best_block.hash if self.best_block else Digest.zero()\n",
    "    \n",
    "    def mine_block(self, beneficiary=None):\n",
    "        block = self.next_block\n",
    "        \n",
    "        if not block:\n",
    "            block = self.next_block = Block(prev_hash=self.best_block_hash)\n",
    "        \n",
    "        if beneficiary:\n",
    "            block.beneficiary = beneficiary\n",
    "        \n",
    "        block.mine()\n",
    "        \n",
    "        self.blocks[block.hash] = self.best_block = block\n",
    "        self.state[block.beneficiary].balance += 100\n",
    "        self.next_block = None\n",
    "        \n",
    "    def add_transaction(self, transaction):\n",
    "        if not self.next_block:\n",
    "            self.next_block = Block(prev_hash=self.best_block_hash)\n",
    "            \n",
    "        self.state = self.state.apply(transaction)\n",
    "        self.next_block.transactions.append(transaction)"
   ]
  },
  {
   "cell_type": "code",
   "execution_count": 23,
   "metadata": {
    "slideshow": {
     "slide_type": "subslide"
    }
   },
   "outputs": [
    {
     "name": "stdout",
     "output_type": "stream",
     "text": [
      "alice: f6c8a50cdb8113ed5cc63011d829632a9cef5f20007febb121014228fa553130\n",
      "bob:   ca71dc47419494fcfb88f33ef676c813a103d86bf48f3a4549edf528ec10830a\n",
      "carol: acd71df69a0b5dc1cc36cbccfd7754fa54d1ecdeb510eabf5e5d502f015280c7\n"
     ]
    },
    {
     "data": {
      "text/plain": [
       "<Blockchain blocks={} state=defaultdict(<class '__main__.Account'>, {}) best_block=None next_block=None>"
      ]
     },
     "execution_count": 23,
     "metadata": {},
     "output_type": "execute_result"
    }
   ],
   "source": [
    "alice = Address(); print(f'alice: {alice!r}')\n",
    "bob = Address(); print(f'bob:   {bob!r}')\n",
    "carol = Address(); print(f'carol: {carol!r}')\n",
    "\n",
    "chain = Blockchain(blocks={}, state=State()); chain"
   ]
  },
  {
   "cell_type": "code",
   "execution_count": 24,
   "metadata": {},
   "outputs": [
    {
     "data": {
      "text/plain": [
       "{'beneficiary': f6c8a50cdb8113ed5cc63011d829632a9cef5f20007febb121014228fa553130,\n",
       " 'hash': 001a71a98946769b6898472c381f41c58a18a5dcd89d76248e704f257fce6e50,\n",
       " 'nonce': 64,\n",
       " 'prev_hash': 0000000000000000000000000000000000000000000000000000000000000000,\n",
       " 'transactions': []}"
      ]
     },
     "metadata": {},
     "output_type": "display_data"
    },
    {
     "data": {
      "text/plain": [
       "State(__main__.Account,\n",
       "      {f6c8a50cdb8113ed5cc63011d829632a9cef5f20007febb121014228fa553130: <Account balance=100 nonce=0>})"
      ]
     },
     "execution_count": 24,
     "metadata": {},
     "output_type": "execute_result"
    }
   ],
   "source": [
    "chain.mine_block(beneficiary=alice); display(chain.best_block.__json__()); chain.state"
   ]
  },
  {
   "cell_type": "code",
   "execution_count": 25,
   "metadata": {},
   "outputs": [
    {
     "data": {
      "text/plain": [
       "State(__main__.Account,\n",
       "      {ca71dc47419494fcfb88f33ef676c813a103d86bf48f3a4549edf528ec10830a: <Account balance=25 nonce=0>,\n",
       "       f6c8a50cdb8113ed5cc63011d829632a9cef5f20007febb121014228fa553130: <Account balance=75 nonce=1>})"
      ]
     },
     "execution_count": 25,
     "metadata": {},
     "output_type": "execute_result"
    }
   ],
   "source": [
    "transaction = Transaction(sender=alice, recipient=bob, nonce=0, amount=25)\n",
    "transaction.sign(alice.private_key)\n",
    "chain.add_transaction(transaction)\n",
    "chain.state"
   ]
  },
  {
   "cell_type": "code",
   "execution_count": 26,
   "metadata": {
    "scrolled": true
   },
   "outputs": [
    {
     "data": {
      "text/plain": [
       "{'beneficiary': acd71df69a0b5dc1cc36cbccfd7754fa54d1ecdeb510eabf5e5d502f015280c7,\n",
       " 'hash': 002f437fbb351e18bfe302be605b4e1e66cae33e7d519fe86164098551d557fa,\n",
       " 'nonce': 63,\n",
       " 'prev_hash': 001a71a98946769b6898472c381f41c58a18a5dcd89d76248e704f257fce6e50,\n",
       " 'transactions': [{'amount': 25,\n",
       "   'nonce': 0,\n",
       "   'recipient': ca71dc47419494fcfb88f33ef676c813a103d86bf48f3a4549edf528ec10830a,\n",
       "   'sender': f6c8a50cdb8113ed5cc63011d829632a9cef5f20007febb121014228fa553130,\n",
       "   'signature': b'0F\\x02!\\x00\\xf6\\x9a+\\xb1\\x8ao\\x97>\\xf1\\x87*A\\xe8\\xf5U\\xbfO\\x8f [X\"\\xd7\\x9dH\\xfd$\\xa3\\x99Q\\xad\\xad\\x02!\\x00\\xb3ks\\x86\\xf7\\x86\\xfc\\xd9\\x8ctW\\x81\\x0e\\x84U}\\xbc+9\\r\\xd2O\\xeaJ\\x9b.\\xe0\\xe8c|\\xbbF'}]}"
      ]
     },
     "metadata": {},
     "output_type": "display_data"
    },
    {
     "data": {
      "text/plain": [
       "State(__main__.Account,\n",
       "      {acd71df69a0b5dc1cc36cbccfd7754fa54d1ecdeb510eabf5e5d502f015280c7: <Account balance=100 nonce=0>,\n",
       "       ca71dc47419494fcfb88f33ef676c813a103d86bf48f3a4549edf528ec10830a: <Account balance=25 nonce=0>,\n",
       "       f6c8a50cdb8113ed5cc63011d829632a9cef5f20007febb121014228fa553130: <Account balance=75 nonce=1>})"
      ]
     },
     "execution_count": 26,
     "metadata": {},
     "output_type": "execute_result"
    }
   ],
   "source": [
    "chain.mine_block(beneficiary=carol); display(chain.best_block.__json__()); chain.state"
   ]
  }
 ],
 "metadata": {
  "kernelspec": {
   "display_name": "Python 3",
   "language": "python",
   "name": "python3"
  },
  "language_info": {
   "codemirror_mode": {
    "name": "ipython",
    "version": 3
   },
   "file_extension": ".py",
   "mimetype": "text/x-python",
   "name": "python",
   "nbconvert_exporter": "python",
   "pygments_lexer": "ipython3",
   "version": "3.6.2"
  },
  "livereveal": {
   "theme": "solarized"
  }
 },
 "nbformat": 4,
 "nbformat_minor": 2
}
